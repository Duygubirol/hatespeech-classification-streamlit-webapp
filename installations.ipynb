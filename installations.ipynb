{
 "cells": [
  {
   "cell_type": "code",
   "execution_count": 1,
   "metadata": {},
   "outputs": [
    {
     "name": "stdout",
     "output_type": "stream",
     "text": [
      "Collecting fastapi\n",
      "  Downloading fastapi-0.95.0-py3-none-any.whl (57 kB)\n",
      "     ---------------------------------------- 57.1/57.1 kB 1.5 MB/s eta 0:00:00\n",
      "Collecting starlette<0.27.0,>=0.26.1\n",
      "  Downloading starlette-0.26.1-py3-none-any.whl (66 kB)\n",
      "     ---------------------------------------- 66.9/66.9 kB 3.8 MB/s eta 0:00:00\n",
      "Collecting pydantic!=1.7,!=1.7.1,!=1.7.2,!=1.7.3,!=1.8,!=1.8.1,<2.0.0,>=1.6.2\n",
      "  Downloading pydantic-1.10.7-cp310-cp310-win_amd64.whl (2.1 MB)\n",
      "     ---------------------------------------- 2.1/2.1 MB 14.9 MB/s eta 0:00:00\n",
      "Requirement already satisfied: typing-extensions>=4.2.0 in c:\\users\\duygu\\anaconda3\\lib\\site-packages (from pydantic!=1.7,!=1.7.1,!=1.7.2,!=1.7.3,!=1.8,!=1.8.1,<2.0.0,>=1.6.2->fastapi) (4.4.0)\n",
      "Requirement already satisfied: anyio<5,>=3.4.0 in c:\\users\\duygu\\anaconda3\\lib\\site-packages (from starlette<0.27.0,>=0.26.1->fastapi) (3.5.0)\n",
      "Requirement already satisfied: idna>=2.8 in c:\\users\\duygu\\anaconda3\\lib\\site-packages (from anyio<5,>=3.4.0->starlette<0.27.0,>=0.26.1->fastapi) (3.4)\n",
      "Requirement already satisfied: sniffio>=1.1 in c:\\users\\duygu\\anaconda3\\lib\\site-packages (from anyio<5,>=3.4.0->starlette<0.27.0,>=0.26.1->fastapi) (1.2.0)\n",
      "Installing collected packages: pydantic, starlette, fastapi\n",
      "Successfully installed fastapi-0.95.0 pydantic-1.10.7 starlette-0.26.1\n",
      "Note: you may need to restart the kernel to use updated packages.\n"
     ]
    }
   ],
   "source": [
    "pip install fastapi\n"
   ]
  },
  {
   "cell_type": "code",
   "execution_count": 2,
   "metadata": {},
   "outputs": [
    {
     "name": "stdout",
     "output_type": "stream",
     "text": [
      "Collecting uvicorn\n",
      "  Downloading uvicorn-0.21.1-py3-none-any.whl (57 kB)\n",
      "     ---------------------------------------- 57.8/57.8 kB 1.5 MB/s eta 0:00:00\n",
      "Collecting h11>=0.8\n",
      "  Downloading h11-0.14.0-py3-none-any.whl (58 kB)\n",
      "     ---------------------------------------- 58.3/58.3 kB ? eta 0:00:00\n",
      "Requirement already satisfied: click>=7.0 in c:\\users\\duygu\\anaconda3\\lib\\site-packages (from uvicorn) (8.0.4)\n",
      "Requirement already satisfied: colorama in c:\\users\\duygu\\anaconda3\\lib\\site-packages (from click>=7.0->uvicorn) (0.4.6)\n",
      "Installing collected packages: h11, uvicorn\n",
      "Successfully installed h11-0.14.0 uvicorn-0.21.1\n",
      "Note: you may need to restart the kernel to use updated packages.\n"
     ]
    }
   ],
   "source": [
    "pip install uvicorn\n"
   ]
  },
  {
   "cell_type": "code",
   "execution_count": 1,
   "metadata": {},
   "outputs": [
    {
     "name": "stdout",
     "output_type": "stream",
     "text": [
      "Collecting pickle5\n",
      "  Downloading pickle5-0.0.11.tar.gz (132 kB)\n",
      "     -------------------------------------- 132.1/132.1 kB 2.6 MB/s eta 0:00:00\n",
      "  Preparing metadata (setup.py): started\n",
      "  Preparing metadata (setup.py): finished with status 'done'\n",
      "Building wheels for collected packages: pickle5\n",
      "  Building wheel for pickle5 (setup.py): started\n",
      "  Building wheel for pickle5 (setup.py): finished with status 'error'\n",
      "  Running setup.py clean for pickle5\n",
      "Failed to build pickle5\n",
      "Installing collected packages: pickle5\n",
      "  Running setup.py install for pickle5: started\n",
      "  Running setup.py install for pickle5: finished with status 'error'\n",
      "Note: you may need to restart the kernel to use updated packages.\n"
     ]
    },
    {
     "name": "stderr",
     "output_type": "stream",
     "text": [
      "  error: subprocess-exited-with-error\n",
      "  \n",
      "  × python setup.py bdist_wheel did not run successfully.\n",
      "  │ exit code: 1\n",
      "  ╰─> [17 lines of output]\n",
      "      running bdist_wheel\n",
      "      running build\n",
      "      running build_py\n",
      "      creating build\n",
      "      creating build\\lib.win-amd64-cpython-310\n",
      "      creating build\\lib.win-amd64-cpython-310\\pickle5\n",
      "      copying pickle5\\pickle.py -> build\\lib.win-amd64-cpython-310\\pickle5\n",
      "      copying pickle5\\pickletools.py -> build\\lib.win-amd64-cpython-310\\pickle5\n",
      "      copying pickle5\\__init__.py -> build\\lib.win-amd64-cpython-310\\pickle5\n",
      "      creating build\\lib.win-amd64-cpython-310\\pickle5\\test\n",
      "      copying pickle5\\test\\pickletester.py -> build\\lib.win-amd64-cpython-310\\pickle5\\test\n",
      "      copying pickle5\\test\\test_pickle.py -> build\\lib.win-amd64-cpython-310\\pickle5\\test\n",
      "      copying pickle5\\test\\test_picklebuffer.py -> build\\lib.win-amd64-cpython-310\\pickle5\\test\n",
      "      copying pickle5\\test\\__init__.py -> build\\lib.win-amd64-cpython-310\\pickle5\\test\n",
      "      running build_ext\n",
      "      building 'pickle5._pickle' extension\n",
      "      error: Microsoft Visual C++ 14.0 or greater is required. Get it with \"Microsoft C++ Build Tools\": https://visualstudio.microsoft.com/visual-cpp-build-tools/\n",
      "      [end of output]\n",
      "  \n",
      "  note: This error originates from a subprocess, and is likely not a problem with pip.\n",
      "  ERROR: Failed building wheel for pickle5\n",
      "  error: subprocess-exited-with-error\n",
      "  \n",
      "  × Running setup.py install for pickle5 did not run successfully.\n",
      "  │ exit code: 1\n",
      "  ╰─> [19 lines of output]\n",
      "      running install\n",
      "      c:\\Users\\duygu\\anaconda3\\lib\\site-packages\\setuptools\\command\\install.py:34: SetuptoolsDeprecationWarning: setup.py install is deprecated. Use build and pip and other standards-based tools.\n",
      "        warnings.warn(\n",
      "      running build\n",
      "      running build_py\n",
      "      creating build\n",
      "      creating build\\lib.win-amd64-cpython-310\n",
      "      creating build\\lib.win-amd64-cpython-310\\pickle5\n",
      "      copying pickle5\\pickle.py -> build\\lib.win-amd64-cpython-310\\pickle5\n",
      "      copying pickle5\\pickletools.py -> build\\lib.win-amd64-cpython-310\\pickle5\n",
      "      copying pickle5\\__init__.py -> build\\lib.win-amd64-cpython-310\\pickle5\n",
      "      creating build\\lib.win-amd64-cpython-310\\pickle5\\test\n",
      "      copying pickle5\\test\\pickletester.py -> build\\lib.win-amd64-cpython-310\\pickle5\\test\n",
      "      copying pickle5\\test\\test_pickle.py -> build\\lib.win-amd64-cpython-310\\pickle5\\test\n",
      "      copying pickle5\\test\\test_picklebuffer.py -> build\\lib.win-amd64-cpython-310\\pickle5\\test\n",
      "      copying pickle5\\test\\__init__.py -> build\\lib.win-amd64-cpython-310\\pickle5\\test\n",
      "      running build_ext\n",
      "      building 'pickle5._pickle' extension\n",
      "      error: Microsoft Visual C++ 14.0 or greater is required. Get it with \"Microsoft C++ Build Tools\": https://visualstudio.microsoft.com/visual-cpp-build-tools/\n",
      "      [end of output]\n",
      "  \n",
      "  note: This error originates from a subprocess, and is likely not a problem with pip.\n",
      "error: legacy-install-failure\n",
      "\n",
      "× Encountered error while trying to install package.\n",
      "╰─> pickle5\n",
      "\n",
      "note: This is an issue with the package mentioned above, not pip.\n",
      "hint: See above for output from the failure.\n"
     ]
    }
   ],
   "source": [
    "pip install pickle5\n"
   ]
  },
  {
   "cell_type": "code",
   "execution_count": 2,
   "metadata": {},
   "outputs": [
    {
     "name": "stdout",
     "output_type": "stream",
     "text": [
      "Requirement already satisfied: pydantic in c:\\users\\duygu\\anaconda3\\lib\\site-packages (1.10.7)\n",
      "Requirement already satisfied: typing-extensions>=4.2.0 in c:\\users\\duygu\\anaconda3\\lib\\site-packages (from pydantic) (4.4.0)\n",
      "Note: you may need to restart the kernel to use updated packages.\n"
     ]
    }
   ],
   "source": [
    "pip install pydantic"
   ]
  },
  {
   "cell_type": "code",
   "execution_count": 3,
   "metadata": {},
   "outputs": [
    {
     "name": "stdout",
     "output_type": "stream",
     "text": [
      "Requirement already satisfied: requests in c:\\users\\duygu\\anaconda3\\lib\\site-packages (2.28.1)\n",
      "Requirement already satisfied: certifi>=2017.4.17 in c:\\users\\duygu\\anaconda3\\lib\\site-packages (from requests) (2022.12.7)\n",
      "Requirement already satisfied: urllib3<1.27,>=1.21.1 in c:\\users\\duygu\\anaconda3\\lib\\site-packages (from requests) (1.26.14)\n",
      "Requirement already satisfied: idna<4,>=2.5 in c:\\users\\duygu\\anaconda3\\lib\\site-packages (from requests) (3.4)\n",
      "Requirement already satisfied: charset-normalizer<3,>=2 in c:\\users\\duygu\\anaconda3\\lib\\site-packages (from requests) (2.0.4)\n",
      "Note: you may need to restart the kernel to use updated packages.\n"
     ]
    }
   ],
   "source": [
    "pip install requests"
   ]
  },
  {
   "cell_type": "code",
   "execution_count": 4,
   "metadata": {},
   "outputs": [
    {
     "name": "stdout",
     "output_type": "stream",
     "text": [
      "Collecting pypi-json\n",
      "  Downloading pypi_json-0.3.0-py3-none-any.whl (26 kB)\n",
      "Requirement already satisfied: packaging>=21.0 in c:\\users\\duygu\\anaconda3\\lib\\site-packages (from pypi-json) (22.0)\n",
      "Requirement already satisfied: requests>=2.26.0 in c:\\users\\duygu\\anaconda3\\lib\\site-packages (from pypi-json) (2.28.1)\n",
      "Collecting apeye>=1.1.0\n",
      "  Downloading apeye-1.3.0-py3-none-any.whl (107 kB)\n",
      "     -------------------------------------- 107.9/107.9 kB 3.2 MB/s eta 0:00:00\n",
      "Requirement already satisfied: platformdirs>=2.3.0 in c:\\users\\duygu\\anaconda3\\lib\\site-packages (from apeye>=1.1.0->pypi-json) (2.5.2)\n",
      "Collecting apeye-core>=1.0.0b2\n",
      "  Downloading apeye_core-1.1.1-py3-none-any.whl (99 kB)\n",
      "     ---------------------------------------- 99.2/99.2 kB ? eta 0:00:00\n",
      "Collecting domdf-python-tools>=2.6.0\n",
      "  Downloading domdf_python_tools-3.6.0-py3-none-any.whl (127 kB)\n",
      "     ---------------------------------------- 127.0/127.0 kB ? eta 0:00:00\n",
      "Requirement already satisfied: idna<4,>=2.5 in c:\\users\\duygu\\anaconda3\\lib\\site-packages (from requests>=2.26.0->pypi-json) (3.4)\n",
      "Requirement already satisfied: certifi>=2017.4.17 in c:\\users\\duygu\\anaconda3\\lib\\site-packages (from requests>=2.26.0->pypi-json) (2022.12.7)\n",
      "Requirement already satisfied: urllib3<1.27,>=1.21.1 in c:\\users\\duygu\\anaconda3\\lib\\site-packages (from requests>=2.26.0->pypi-json) (1.26.14)\n",
      "Requirement already satisfied: charset-normalizer<3,>=2 in c:\\users\\duygu\\anaconda3\\lib\\site-packages (from requests>=2.26.0->pypi-json) (2.0.4)\n",
      "Requirement already satisfied: typing-extensions>=3.7.4.1 in c:\\users\\duygu\\anaconda3\\lib\\site-packages (from domdf-python-tools>=2.6.0->apeye>=1.1.0->pypi-json) (4.4.0)\n",
      "Collecting natsort>=7.0.1\n",
      "  Downloading natsort-8.3.1-py3-none-any.whl (38 kB)\n",
      "Installing collected packages: natsort, domdf-python-tools, apeye-core, apeye, pypi-json\n",
      "Successfully installed apeye-1.3.0 apeye-core-1.1.1 domdf-python-tools-3.6.0 natsort-8.3.1 pypi-json-0.3.0\n",
      "Note: you may need to restart the kernel to use updated packages.\n"
     ]
    }
   ],
   "source": [
    "pip install pypi-json"
   ]
  },
  {
   "cell_type": "code",
   "execution_count": null,
   "metadata": {},
   "outputs": [],
   "source": []
  }
 ],
 "metadata": {
  "kernelspec": {
   "display_name": "base",
   "language": "python",
   "name": "python3"
  },
  "language_info": {
   "codemirror_mode": {
    "name": "ipython",
    "version": 3
   },
   "file_extension": ".py",
   "mimetype": "text/x-python",
   "name": "python",
   "nbconvert_exporter": "python",
   "pygments_lexer": "ipython3",
   "version": "3.10.9"
  },
  "orig_nbformat": 4
 },
 "nbformat": 4,
 "nbformat_minor": 2
}
